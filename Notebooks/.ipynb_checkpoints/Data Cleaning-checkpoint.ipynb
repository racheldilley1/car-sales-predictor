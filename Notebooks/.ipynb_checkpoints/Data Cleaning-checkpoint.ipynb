{
 "cells": [
  {
   "cell_type": "code",
   "execution_count": 30,
   "id": "immune-medicare",
   "metadata": {},
   "outputs": [],
   "source": [
    "import pandas as pd\n",
    "\n",
    "# text cleaning\n",
    "import re"
   ]
  },
  {
   "cell_type": "markdown",
   "id": "spoken-liberal",
   "metadata": {},
   "source": [
    "### Load data"
   ]
  },
  {
   "cell_type": "code",
   "execution_count": 71,
   "id": "bulgarian-liechtenstein",
   "metadata": {},
   "outputs": [
    {
     "name": "stdout",
     "output_type": "stream",
     "text": [
      "<class 'pandas.core.frame.DataFrame'>\n",
      "RangeIndex: 4352 entries, 0 to 4351\n",
      "Data columns (total 27 columns):\n",
      " #   Column               Non-Null Count  Dtype  \n",
      "---  ------               --------------  -----  \n",
      " 0   Unnamed: 0           4352 non-null   int64  \n",
      " 1   Total_Sales          4352 non-null   float64\n",
      " 2   Year                 4352 non-null   int64  \n",
      " 3   cleaned_name         4352 non-null   object \n",
      " 4   curb_weight_lbs      2136 non-null   float64\n",
      " 5   ground_clearance_in  1694 non-null   float64\n",
      " 6   body_style           2386 non-null   object \n",
      " 7   engine_type          2379 non-null   object \n",
      " 8   speed_sec            3310 non-null   float64\n",
      " 9   horsepower_hp        3584 non-null   float64\n",
      " 10  length_in            3511 non-null   float64\n",
      " 11  width_in             3568 non-null   float64\n",
      " 12  msrp                 3699 non-null   float64\n",
      " 13  pass_capacity        3410 non-null   float64\n",
      " 14  doors                3410 non-null   float64\n",
      " 15  wheelbase_in         3711 non-null   float64\n",
      " 16  height_in            3709 non-null   float64\n",
      " 17  tank_cap_gal         3699 non-null   float64\n",
      " 18  cylinders            1533 non-null   float64\n",
      " 19  lug_vol_cuft         1551 non-null   float64\n",
      " 20  vol_cubft            2930 non-null   float64\n",
      " 21  mpg_comb             3706 non-null   float64\n",
      " 22  drivetrain           3766 non-null   object \n",
      " 23  fuel_typ             3736 non-null   object \n",
      " 24  trans                2934 non-null   object \n",
      " 25  class_EPA            2743 non-null   object \n",
      " 26  engine               2499 non-null   object \n",
      "dtypes: float64(17), int64(2), object(8)\n",
      "memory usage: 918.1+ KB\n"
     ]
    }
   ],
   "source": [
    "full_model_spec_sales_df = pd.read_csv('../Data/full_model_spec_sales_df.csv')\n",
    "\n",
    "full_model_spec_sales_df.info()"
   ]
  },
  {
   "cell_type": "markdown",
   "id": "velvet-pottery",
   "metadata": {},
   "source": [
    "### Clean data"
   ]
  },
  {
   "cell_type": "code",
   "execution_count": 72,
   "id": "phantom-wrong",
   "metadata": {},
   "outputs": [
    {
     "name": "stdout",
     "output_type": "stream",
     "text": [
      "<class 'pandas.core.frame.DataFrame'>\n",
      "Int64Index: 4092 entries, 0 to 4351\n",
      "Data columns (total 24 columns):\n",
      " #   Column           Non-Null Count  Dtype  \n",
      "---  ------           --------------  -----  \n",
      " 0   Unnamed: 0       4092 non-null   int64  \n",
      " 1   Total_Sales      4092 non-null   float64\n",
      " 2   Year             4092 non-null   int64  \n",
      " 3   cleaned_name     4092 non-null   object \n",
      " 4   curb_weight_lbs  2125 non-null   float64\n",
      " 5   body_style       2375 non-null   object \n",
      " 6   engine_type      2368 non-null   object \n",
      " 7   speed_sec        3151 non-null   float64\n",
      " 8   horsepower_hp    3417 non-null   float64\n",
      " 9   length_in        3349 non-null   float64\n",
      " 10  width_in         3405 non-null   float64\n",
      " 11  msrp             3535 non-null   float64\n",
      " 12  pass_capacity    3262 non-null   float64\n",
      " 13  doors            3262 non-null   float64\n",
      " 14  wheelbase_in     3548 non-null   float64\n",
      " 15  height_in        3546 non-null   float64\n",
      " 16  tank_cap_gal     3534 non-null   float64\n",
      " 17  vol_cubft        2855 non-null   float64\n",
      " 18  mpg_comb         3540 non-null   float64\n",
      " 19  drivetrain       3599 non-null   object \n",
      " 20  fuel_typ         3573 non-null   object \n",
      " 21  trans            2917 non-null   object \n",
      " 22  class_EPA        2725 non-null   object \n",
      " 23  engine           2487 non-null   object \n",
      "dtypes: float64(14), int64(2), object(8)\n",
      "memory usage: 799.2+ KB\n"
     ]
    }
   ],
   "source": [
    "# drop columns with small numbers \n",
    "drop_cols = ['ground_clearance_in', 'cylinders', 'lug_vol_cuft']\n",
    "full_model_spec_sales_df2 = full_model_spec_sales_df.copy()\n",
    "full_model_spec_sales_df2.drop(drop_cols, axis=1, inplace=True)\n",
    "\n",
    "#drop rows with less than 100 sales\n",
    "full_model_spec_sales_df2 = full_model_spec_sales_df2[full_model_spec_sales_df2['Total_Sales'] > 100]\n",
    "\n",
    "full_model_spec_sales_df2.info()"
   ]
  },
  {
   "cell_type": "code",
   "execution_count": 77,
   "id": "lesbian-smith",
   "metadata": {},
   "outputs": [],
   "source": [
    "def clean_categorical_column(value, remove_words):\n",
    "    try:\n",
    "        value = value.lower()\n",
    "        value2 = re.sub(r'[^\\w\\s]', '', value)\n",
    "        \n",
    "        for word in remove_words:\n",
    "            value2 = value2.replace(word, '')\n",
    "\n",
    "        return value2.strip()\n",
    "    \n",
    "    except:\n",
    "        return value"
   ]
  },
  {
   "cell_type": "markdown",
   "id": "instructional-mirror",
   "metadata": {},
   "source": [
    "### Clean drive column"
   ]
  },
  {
   "cell_type": "code",
   "execution_count": 78,
   "id": "functional-restoration",
   "metadata": {},
   "outputs": [
    {
     "data": {
      "text/plain": [
       "front wheel    1626\n",
       "rear wheel      919\n",
       "all wheel       684\n",
       "four wheel      364\n",
       "two wheel         6\n",
       "Name: drivetrain, dtype: int64"
      ]
     },
     "execution_count": 78,
     "metadata": {},
     "output_type": "execute_result"
    }
   ],
   "source": [
    "# replace strings\n",
    "replace_dict = {'4': 'four ', '2': 'two', 'drive': '', 'awd': 'all wheel', '4 ': 'four ', '  ': ' ', '4 ': 'four ',\n",
    "               'frontwheel': 'front wheel', 'allwheel': 'all wheel', \"rearwheel\": 'rear wheel', 'frontwheel': 'front wheel',\n",
    "               'fourwheel': 'four wheel'}\n",
    "\n",
    "#loop through strings to remove in df\n",
    "for key, value in replace_dict.items():\n",
    "    full_model_spec_sales_df2 = full_model_spec_sales_df2.replace(key, value, regex=True) \n",
    "\n",
    "remove_words = ['fulltime', 'automatic', 'quattro', 'instant', 'tractiontm', 'autotrac', 'allfour', 'versatrak',\n",
    "               'multimode', 'parttime']\n",
    "full_model_spec_sales_df2['drivetrain'] = full_model_spec_sales_df2.apply(lambda x: \n",
    "                                                                          clean_categorical_column(x['drivetrain'], remove_words), axis=1)\n",
    "\n",
    "full_model_spec_sales_df2['drivetrain'].value_counts()"
   ]
  },
  {
   "cell_type": "markdown",
   "id": "environmental-freight",
   "metadata": {},
   "source": [
    "### Clean fuel type"
   ]
  },
  {
   "cell_type": "code",
   "execution_count": 98,
   "id": "satisfied-zimbabwe",
   "metadata": {},
   "outputs": [
    {
     "data": {
      "text/plain": [
       "regular        2476\n",
       "premium         878\n",
       "gas/ethanol      77\n",
       "electric         51\n",
       "diesel           48\n",
       "hybrid           43\n",
       "Name: fuel, dtype: int64"
      ]
     },
     "execution_count": 98,
     "metadata": {},
     "output_type": "execute_result"
    }
   ],
   "source": [
    "def clean_fuel_type(value):\n",
    "    try:\n",
    "        value = value.lower()\n",
    "        \n",
    "        if 'premium' in value:\n",
    "            return 'premium'\n",
    "        elif 'gas/electric' in value or 'electric/gas' in value or 'hybrid' in value:\n",
    "            return 'hybrid'\n",
    "        elif 'gas/ethanol' in value:\n",
    "            return 'gas/ethanol'\n",
    "        elif 'electricity' in value or 'electric' in value:\n",
    "            return 'electric'\n",
    "        elif 'diesel' in value:\n",
    "            return 'diesel'\n",
    "        elif 'regular unleaded' in value or 'gasoline' in value or 'gas' in value:\n",
    "            return 'regular'\n",
    "        else:\n",
    "            return 'regular'\n",
    "    except:\n",
    "        return value\n",
    "\n",
    "# replace strings\n",
    "# replace_dict = {'4': 'four ', '2': 'two', 'drive': '', 'awd': 'all wheel', '4 ': 'four ', '  ': ' ', '4 ': 'four ',\n",
    "#                'frontwheel': 'front wheel', 'allwheel': 'all wheel', \"rearwheel\": 'rear wheel', 'frontwheel': 'front wheel',\n",
    "#                'fourwheel': 'four wheel'}\n",
    "\n",
    "# #loop through strings to remove in df\n",
    "# for key, value in replace_dict.items():\n",
    "#     full_model_spec_sales_df2 = full_model_spec_sales_df2.replace(key, value, regex=True) \n",
    "\n",
    "# remove_words = ['fulltime', 'automatic', 'quattro', 'instant', 'tractiontm', 'autotrac', 'allfour', 'versatrak',\n",
    "#                'multimode', 'parttime']\n",
    "remove_words = ['ity']\n",
    "full_model_spec_sales_df2['fuel'] = full_model_spec_sales_df2.apply(lambda x: \n",
    "                                                                          clean_categorical_column(x['fuel'], remove_words), axis=1)\n",
    "\n",
    "full_model_spec_sales_df2['fuel'] = full_model_spec_sales_df2.apply(lambda x: \n",
    "                                                                          clean_fuel_type(x['fuel_typ']), axis=1)\n",
    "\n",
    "\n",
    "full_model_spec_sales_df2['fuel'].value_counts()"
   ]
  },
  {
   "cell_type": "markdown",
   "id": "metallic-football",
   "metadata": {},
   "source": [
    "### Clean class EPA"
   ]
  },
  {
   "cell_type": "code",
   "execution_count": 100,
   "id": "molecular-pricing",
   "metadata": {},
   "outputs": [
    {
     "data": {
      "text/plain": [
       "Compact Cars                   260\n",
       "Large Cars                     199\n",
       "Subcompact Cars                194\n",
       "Mid-Size Cars                  187\n",
       "Midsize Cars                   163\n",
       "                              ... \n",
       "twoWD sport Utility Vehicle      1\n",
       "Mini-Compact Car                 1\n",
       "AWD Sport Utility Vehicle        1\n",
       "Full Size                        1\n",
       "Compact Sedan                    1\n",
       "Name: class_EPA, Length: 80, dtype: int64"
      ]
     },
     "execution_count": 100,
     "metadata": {},
     "output_type": "execute_result"
    }
   ],
   "source": [
    "full_model_spec_sales_df2['class_EPA'].value_counts()"
   ]
  },
  {
   "cell_type": "code",
   "execution_count": null,
   "id": "uniform-arkansas",
   "metadata": {},
   "outputs": [],
   "source": []
  },
  {
   "cell_type": "code",
   "execution_count": null,
   "id": "voluntary-alberta",
   "metadata": {},
   "outputs": [],
   "source": [
    "full_model_spec_sales_df.to_csv('../Data/partial_model_spec_sales_df.csv')\n",
    "\n",
    "null_cols = ['vol_cubft', 'mpg_comb', 'drivetrain', 'fuel_typ','trans', 'class_EPA', 'engine']\n",
    "\n",
    "null_df = full_model_spec_sales_df[full_model_spec_sales_df[null_cols].isna().all(1)] #.groupby('cleaned_name')\n",
    "null_df['cleaned_name'].value_counts()"
   ]
  }
 ],
 "metadata": {
  "kernelspec": {
   "display_name": "Python 3",
   "language": "python",
   "name": "python3"
  },
  "language_info": {
   "codemirror_mode": {
    "name": "ipython",
    "version": 3
   },
   "file_extension": ".py",
   "mimetype": "text/x-python",
   "name": "python",
   "nbconvert_exporter": "python",
   "pygments_lexer": "ipython3",
   "version": "3.8.5"
  }
 },
 "nbformat": 4,
 "nbformat_minor": 5
}
