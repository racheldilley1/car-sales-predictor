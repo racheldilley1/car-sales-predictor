{
 "cells": [
  {
   "cell_type": "code",
   "execution_count": 24,
   "id": "weighted-anatomy",
   "metadata": {},
   "outputs": [],
   "source": [
    "import pandas as pd\n",
    "\n",
    "# text processing\n",
    "import re"
   ]
  },
  {
   "cell_type": "code",
   "execution_count": 10,
   "id": "dated-shade",
   "metadata": {},
   "outputs": [
    {
     "name": "stdout",
     "output_type": "stream",
     "text": [
      "<class 'pandas.core.frame.DataFrame'>\n",
      "RangeIndex: 4092 entries, 0 to 4091\n",
      "Data columns (total 21 columns):\n",
      " #   Column           Non-Null Count  Dtype  \n",
      "---  ------           --------------  -----  \n",
      " 0   Unnamed: 0       4092 non-null   int64  \n",
      " 1   Total_Sales      4092 non-null   float64\n",
      " 2   Year             4092 non-null   int64  \n",
      " 3   cleaned_name     4092 non-null   object \n",
      " 4   curb_weight_lbs  2116 non-null   float64\n",
      " 5   speed_sec        3142 non-null   float64\n",
      " 6   horsepower_hp    3408 non-null   float64\n",
      " 7   width_in         3052 non-null   float64\n",
      " 8   msrp             3526 non-null   float64\n",
      " 9   pass_capacity    3253 non-null   float64\n",
      " 10  doors            3253 non-null   float64\n",
      " 11  wheelbase_in     3539 non-null   float64\n",
      " 12  height_in        3320 non-null   float64\n",
      " 13  tank_cap_gal     3525 non-null   float64\n",
      " 14  length_in        3017 non-null   float64\n",
      " 15  vol_cubft        2428 non-null   float64\n",
      " 16  mpg_comb         3539 non-null   float64\n",
      " 17  drivetrain       3598 non-null   object \n",
      " 18  fuel             3575 non-null   object \n",
      " 19  class            2831 non-null   object \n",
      " 20  transmission     3025 non-null   object \n",
      "dtypes: float64(14), int64(2), object(5)\n",
      "memory usage: 671.5+ KB\n"
     ]
    }
   ],
   "source": [
    "df = pd.read_csv('../Data/full_model_spec_sales_df_cleaned.csv')\n",
    "df.info()"
   ]
  },
  {
   "cell_type": "markdown",
   "id": "turned-heritage",
   "metadata": {},
   "source": [
    "### load additonal datset"
   ]
  },
  {
   "cell_type": "code",
   "execution_count": 75,
   "id": "arranged-macedonia",
   "metadata": {},
   "outputs": [
    {
     "name": "stdout",
     "output_type": "stream",
     "text": [
      "<class 'pandas.core.frame.DataFrame'>\n",
      "Int64Index: 918 entries, 0 to 5074\n",
      "Data columns (total 12 columns):\n",
      " #   Column                                           Non-Null Count  Dtype \n",
      "---  ------                                           --------------  ----- \n",
      " 0   Dimensions.Height                                918 non-null    int64 \n",
      " 1   Dimensions.Length                                918 non-null    int64 \n",
      " 2   Dimensions.Width                                 918 non-null    int64 \n",
      " 3   Engine Information.Driveline                     918 non-null    object\n",
      " 4   Engine Information.Hybrid                        918 non-null    bool  \n",
      " 5   Engine Information.Transmission                  918 non-null    object\n",
      " 6   Fuel Information.Fuel Type                       918 non-null    object\n",
      " 7   Identification.Classification                    918 non-null    object\n",
      " 8   Identification.Model Year                        918 non-null    object\n",
      " 9   Engine Information.Engine Statistics.Horsepower  918 non-null    int64 \n",
      " 10  Engine Information.Engine Statistics.Torque      918 non-null    int64 \n",
      " 11  Year                                             918 non-null    int64 \n",
      "dtypes: bool(1), int64(6), object(5)\n",
      "memory usage: 87.0+ KB\n"
     ]
    }
   ],
   "source": [
    "specs_df = pd.read_csv('/Users/racheldilley/Documents/car-sales-predictor-data/cars.csv')\n",
    "specs_df['Year'] = specs_df['Identification.Year']\n",
    "specs_df.drop(['Engine Information.Engine Type', 'Fuel Information.City mpg', 'Fuel Information.Highway mpg',\n",
    "              'Identification.ID', 'Identification.Make', 'Identification.Year', 'Engine Information.Number of Forward Gears'], axis=1, inplace=True)\n",
    "specs_df.drop_duplicates(['Identification.Model Year'], keep='first', inplace=True)\n",
    "specs_df.info()"
   ]
  },
  {
   "cell_type": "code",
   "execution_count": 76,
   "id": "nominated-gravity",
   "metadata": {},
   "outputs": [],
   "source": [
    "def clean_name(name):\n",
    "    name = name[4:]\n",
    "    name = name.lower()\n",
    "    name = re.sub(r'[^\\w\\s]', ' ', name)\n",
    "   \n",
    "    return name.strip()"
   ]
  },
  {
   "cell_type": "code",
   "execution_count": 77,
   "id": "accepting-petite",
   "metadata": {},
   "outputs": [
    {
     "name": "stdout",
     "output_type": "stream",
     "text": [
      "<class 'pandas.core.frame.DataFrame'>\n",
      "Int64Index: 4093 entries, 0 to 4092\n",
      "Data columns (total 32 columns):\n",
      " #   Column                                           Non-Null Count  Dtype  \n",
      "---  ------                                           --------------  -----  \n",
      " 0   Unnamed: 0                                       4093 non-null   int64  \n",
      " 1   Total_Sales                                      4093 non-null   float64\n",
      " 2   Year                                             4093 non-null   int64  \n",
      " 3   cleaned_name                                     4093 non-null   object \n",
      " 4   curb_weight_lbs                                  2116 non-null   float64\n",
      " 5   speed_sec                                        3143 non-null   float64\n",
      " 6   horsepower_hp                                    3409 non-null   float64\n",
      " 7   width_in                                         3053 non-null   float64\n",
      " 8   msrp                                             3527 non-null   float64\n",
      " 9   pass_capacity                                    3254 non-null   float64\n",
      " 10  doors                                            3254 non-null   float64\n",
      " 11  wheelbase_in                                     3540 non-null   float64\n",
      " 12  height_in                                        3321 non-null   float64\n",
      " 13  tank_cap_gal                                     3526 non-null   float64\n",
      " 14  length_in                                        3017 non-null   float64\n",
      " 15  vol_cubft                                        2428 non-null   float64\n",
      " 16  mpg_comb                                         3540 non-null   float64\n",
      " 17  drivetrain                                       3599 non-null   object \n",
      " 18  fuel                                             3576 non-null   object \n",
      " 19  class                                            2831 non-null   object \n",
      " 20  transmission                                     3026 non-null   object \n",
      " 21  Dimensions.Height                                448 non-null    float64\n",
      " 22  Dimensions.Length                                448 non-null    float64\n",
      " 23  Dimensions.Width                                 448 non-null    float64\n",
      " 24  Engine Information.Driveline                     448 non-null    object \n",
      " 25  Engine Information.Hybrid                        448 non-null    object \n",
      " 26  Engine Information.Transmission                  448 non-null    object \n",
      " 27  Fuel Information.Fuel Type                       448 non-null    object \n",
      " 28  Identification.Classification                    448 non-null    object \n",
      " 29  Identification.Model Year                        448 non-null    object \n",
      " 30  Engine Information.Engine Statistics.Horsepower  448 non-null    float64\n",
      " 31  Engine Information.Engine Statistics.Torque      448 non-null    float64\n",
      "dtypes: float64(19), int64(2), object(11)\n",
      "memory usage: 1.0+ MB\n"
     ]
    }
   ],
   "source": [
    "specs_df['cleaned_name'] = specs_df.apply(lambda x: clean_name(x['Identification.Model Year']), axis=1)\n",
    "\n",
    "\n",
    "df2 = df.merge(specs_df, how = 'left',on=[\"cleaned_name\", 'Year'])\n",
    "df2.info()"
   ]
  },
  {
   "cell_type": "code",
   "execution_count": 78,
   "id": "related-lexington",
   "metadata": {},
   "outputs": [
    {
     "name": "stdout",
     "output_type": "stream",
     "text": [
      "<class 'pandas.core.frame.DataFrame'>\n",
      "Int64Index: 4093 entries, 0 to 4092\n",
      "Data columns (total 23 columns):\n",
      " #   Column                                       Non-Null Count  Dtype  \n",
      "---  ------                                       --------------  -----  \n",
      " 0   Unnamed: 0                                   4093 non-null   int64  \n",
      " 1   Total_Sales                                  4093 non-null   float64\n",
      " 2   Year                                         4093 non-null   int64  \n",
      " 3   cleaned_name                                 4093 non-null   object \n",
      " 4   curb_weight_lbs                              2116 non-null   float64\n",
      " 5   speed_sec                                    3143 non-null   float64\n",
      " 6   msrp                                         3527 non-null   float64\n",
      " 7   pass_capacity                                3254 non-null   float64\n",
      " 8   doors                                        3254 non-null   float64\n",
      " 9   wheelbase_in                                 3540 non-null   float64\n",
      " 10  tank_cap_gal                                 3526 non-null   float64\n",
      " 11  vol_cubft                                    2428 non-null   float64\n",
      " 12  mpg_comb                                     3540 non-null   float64\n",
      " 13  Engine Information.Hybrid                    448 non-null    object \n",
      " 14  Engine Information.Engine Statistics.Torque  448 non-null    float64\n",
      " 15  heightIN                                     3373 non-null   float64\n",
      " 16  lengthIN                                     3103 non-null   float64\n",
      " 17  widthIN                                      3141 non-null   float64\n",
      " 18  drive                                        3618 non-null   object \n",
      " 19  trans                                        3117 non-null   object \n",
      " 20  fuel_type                                    3597 non-null   object \n",
      " 21  epa_class                                    2955 non-null   object \n",
      " 22  horsepowerHP                                 3449 non-null   float64\n",
      "dtypes: float64(15), int64(2), object(6)\n",
      "memory usage: 767.4+ KB\n"
     ]
    }
   ],
   "source": [
    "import math\n",
    "def fill_null_values(x, y):\n",
    "    try:\n",
    "        if math.isnan(x):\n",
    "            return y\n",
    "        else:\n",
    "            return x\n",
    "    except:\n",
    "        return x\n",
    "\n",
    "drop_columns = ['Identification.Model Year']\n",
    "df3 = df2.copy()\n",
    "df3.drop(drop_columns, axis=1, inplace=True )\n",
    "\n",
    "column_pairs = {'heightIN': ['height_in','Dimensions.Height'], 'lengthIN': ['length_in', 'Dimensions.Length'], \n",
    "               'widthIN': ['width_in', 'Dimensions.Width'], 'drive': ['drivetrain', 'Engine Information.Driveline'],\n",
    "               'trans': ['transmission', 'Engine Information.Transmission'], 'fuel_type': ['fuel', 'Fuel Information.Fuel Type'],\n",
    "               'epa_class':['class', 'Identification.Classification'], 'horsepowerHP': ['horsepower_hp', 'Engine Information.Engine Statistics.Horsepower'] }\n",
    "\n",
    "for key, value in column_pairs.items():\n",
    "    df3[key] = df3.apply(lambda x: fill_null_values(x[value[0]], x[value[1]]), axis=1)\n",
    "    df3.drop(value, axis=1, inplace=True)\n",
    "\n",
    "df3.info()"
   ]
  },
  {
   "cell_type": "code",
   "execution_count": 79,
   "id": "front-asthma",
   "metadata": {},
   "outputs": [
    {
     "name": "stdout",
     "output_type": "stream",
     "text": [
      "<class 'pandas.core.frame.DataFrame'>\n",
      "Int64Index: 7209 entries, 0 to 7208\n",
      "Data columns (total 35 columns):\n",
      " #   Column                                           Non-Null Count  Dtype  \n",
      "---  ------                                           --------------  -----  \n",
      " 0   Unnamed: 0                                       7209 non-null   int64  \n",
      " 1   Total_Sales                                      7209 non-null   float64\n",
      " 2   Year_x                                           7209 non-null   int64  \n",
      " 3   cleaned_name                                     7209 non-null   object \n",
      " 4   curb_weight_lbs                                  4027 non-null   float64\n",
      " 5   speed_sec                                        5778 non-null   float64\n",
      " 6   msrp                                             6429 non-null   float64\n",
      " 7   pass_capacity                                    6021 non-null   float64\n",
      " 8   doors                                            6021 non-null   float64\n",
      " 9   wheelbase_in                                     6455 non-null   float64\n",
      " 10  tank_cap_gal                                     6449 non-null   float64\n",
      " 11  vol_cubft                                        4494 non-null   float64\n",
      " 12  mpg_comb                                         6429 non-null   float64\n",
      " 13  Engine Information.Hybrid_x                      1208 non-null   object \n",
      " 14  Engine Information.Engine Statistics.Torque_x    1208 non-null   float64\n",
      " 15  heightIN                                         6239 non-null   float64\n",
      " 16  lengthIN                                         5708 non-null   float64\n",
      " 17  widthIN                                          5697 non-null   float64\n",
      " 18  drive                                            6596 non-null   object \n",
      " 19  trans                                            5836 non-null   object \n",
      " 20  fuel_type                                        6571 non-null   object \n",
      " 21  epa_class                                        5481 non-null   object \n",
      " 22  horsepowerHP                                     6321 non-null   float64\n",
      " 23  Dimensions.Height                                5158 non-null   float64\n",
      " 24  Dimensions.Length                                5158 non-null   float64\n",
      " 25  Dimensions.Width                                 5158 non-null   float64\n",
      " 26  Engine Information.Driveline                     5158 non-null   object \n",
      " 27  Engine Information.Hybrid_y                      5158 non-null   object \n",
      " 28  Engine Information.Transmission                  5158 non-null   object \n",
      " 29  Fuel Information.Fuel Type                       5158 non-null   object \n",
      " 30  Identification.Classification                    5158 non-null   object \n",
      " 31  Identification.Model Year                        5158 non-null   object \n",
      " 32  Engine Information.Engine Statistics.Horsepower  5158 non-null   float64\n",
      " 33  Engine Information.Engine Statistics.Torque_y    5158 non-null   float64\n",
      " 34  Year_y                                           5158 non-null   float64\n",
      "dtypes: float64(21), int64(2), object(12)\n",
      "memory usage: 2.0+ MB\n"
     ]
    }
   ],
   "source": [
    "df4 = df3.merge(specs_df, how = 'left',on=[\"cleaned_name\"])\n",
    "df4.info()"
   ]
  },
  {
   "cell_type": "code",
   "execution_count": 80,
   "id": "supposed-geography",
   "metadata": {},
   "outputs": [
    {
     "name": "stdout",
     "output_type": "stream",
     "text": [
      "<class 'pandas.core.frame.DataFrame'>\n",
      "Int64Index: 7209 entries, 0 to 7208\n",
      "Data columns (total 22 columns):\n",
      " #   Column           Non-Null Count  Dtype  \n",
      "---  ------           --------------  -----  \n",
      " 0   Total_Sales      7209 non-null   float64\n",
      " 1   cleaned_name     7209 non-null   object \n",
      " 2   curb_weight_lbs  4027 non-null   float64\n",
      " 3   speed_sec        5778 non-null   float64\n",
      " 4   msrp             6429 non-null   float64\n",
      " 5   pass_capacity    6021 non-null   float64\n",
      " 6   doors            6021 non-null   float64\n",
      " 7   wheelbase_in     6455 non-null   float64\n",
      " 8   tank_cap_gal     6449 non-null   float64\n",
      " 9   vol_cubft        4494 non-null   float64\n",
      " 10  mpg_comb         6429 non-null   float64\n",
      " 11  Year             7209 non-null   int64  \n",
      " 12  height_in        6646 non-null   float64\n",
      " 13  length_in        6552 non-null   float64\n",
      " 14  width_in         6625 non-null   float64\n",
      " 15  drivetrain       6819 non-null   object \n",
      " 16  transmission     6522 non-null   object \n",
      " 17  fuel             6801 non-null   object \n",
      " 18  class            6500 non-null   object \n",
      " 19  horsepower_hp    6719 non-null   float64\n",
      " 20  hybrid           5158 non-null   object \n",
      " 21  torque           5158 non-null   float64\n",
      "dtypes: float64(15), int64(1), object(6)\n",
      "memory usage: 1.3+ MB\n"
     ]
    }
   ],
   "source": [
    "drop_columns = ['Identification.Model Year', 'Year_y', 'Year_x', 'Unnamed: 0']\n",
    "df5 = df4.copy()\n",
    "df5['Year'] = df5['Year_x']\n",
    "df5.drop(drop_columns, axis=1, inplace=True )\n",
    "\n",
    "column_pairs = {'height_in': ['heightIN','Dimensions.Height'], 'length_in': ['lengthIN', 'Dimensions.Length'], \n",
    "               'width_in': ['widthIN', 'Dimensions.Width'], 'drivetrain': ['drive', 'Engine Information.Driveline'],\n",
    "               'transmission': ['trans', 'Engine Information.Transmission'], 'fuel': ['fuel_type', 'Fuel Information.Fuel Type'],\n",
    "               'class':['epa_class', 'Identification.Classification'], 'horsepower_hp': ['horsepowerHP', 'Engine Information.Engine Statistics.Horsepower'],\n",
    "                'hybrid': ['Engine Information.Hybrid_x','Engine Information.Hybrid_y'], 'torque':\n",
    "                ['Engine Information.Engine Statistics.Torque_x', 'Engine Information.Engine Statistics.Torque_y'] }\n",
    "\n",
    "for key, value in column_pairs.items():\n",
    "    df5[key] = df5.apply(lambda x: fill_null_values(x[value[0]], x[value[1]]), axis=1)\n",
    "    df5.drop(value, axis=1, inplace=True)\n",
    "\n",
    "df5.info()"
   ]
  },
  {
   "cell_type": "code",
   "execution_count": 81,
   "id": "frequent-event",
   "metadata": {},
   "outputs": [
    {
     "name": "stdout",
     "output_type": "stream",
     "text": [
      "<class 'pandas.core.frame.DataFrame'>\n",
      "Int64Index: 4092 entries, 0 to 7206\n",
      "Data columns (total 22 columns):\n",
      " #   Column           Non-Null Count  Dtype  \n",
      "---  ------           --------------  -----  \n",
      " 0   Total_Sales      4092 non-null   float64\n",
      " 1   cleaned_name     4092 non-null   object \n",
      " 2   curb_weight_lbs  2116 non-null   float64\n",
      " 3   speed_sec        3142 non-null   float64\n",
      " 4   msrp             3526 non-null   float64\n",
      " 5   pass_capacity    3253 non-null   float64\n",
      " 6   doors            3253 non-null   float64\n",
      " 7   wheelbase_in     3539 non-null   float64\n",
      " 8   tank_cap_gal     3525 non-null   float64\n",
      " 9   vol_cubft        2428 non-null   float64\n",
      " 10  mpg_comb         3539 non-null   float64\n",
      " 11  Year             4092 non-null   int64  \n",
      " 12  height_in        3529 non-null   float64\n",
      " 13  length_in        3435 non-null   float64\n",
      " 14  width_in         3508 non-null   float64\n",
      " 15  drivetrain       3702 non-null   object \n",
      " 16  transmission     3405 non-null   object \n",
      " 17  fuel             3684 non-null   object \n",
      " 18  class            3383 non-null   object \n",
      " 19  horsepower_hp    3602 non-null   float64\n",
      " 20  hybrid           2041 non-null   object \n",
      " 21  torque           2041 non-null   float64\n",
      "dtypes: float64(15), int64(1), object(6)\n",
      "memory usage: 735.3+ KB\n"
     ]
    }
   ],
   "source": [
    "df5.drop_duplicates(['cleaned_name', 'Year'], keep='first', inplace=True)\n",
    "df5.info()"
   ]
  },
  {
   "cell_type": "code",
   "execution_count": 90,
   "id": "stuffed-membership",
   "metadata": {},
   "outputs": [],
   "source": [
    "df5['fuel_type'] = df5.apply(lambda x: 'Hybrid' if x['hybrid'] == True else x['fuel'], axis=1)\n",
    "df5.drop(['fuel','torque'], axis=1, inplace=True)"
   ]
  },
  {
   "cell_type": "code",
   "execution_count": 91,
   "id": "native-disposal",
   "metadata": {},
   "outputs": [],
   "source": [
    "#save as csv to manually add in missing data\n",
    "df5.to_csv('../Data/full_model_spec_sales_df_cleaned2.csv')"
   ]
  },
  {
   "cell_type": "code",
   "execution_count": 86,
   "id": "broad-progress",
   "metadata": {},
   "outputs": [
    {
     "data": {
      "text/plain": [
       "chrysler town country     10\n",
       "mercedes benz slk          7\n",
       "volkswagen golf rabbit     6\n",
       "suzuki aerio sx4           6\n",
       "chevrolet caprice ppv      6\n",
       "mercury mountaineer        6\n",
       "infiniti g                 6\n",
       "mercedes benz clk          6\n",
       "lexus sc430                6\n",
       "lexus ct200h               5\n",
       "chevrolet bolt             5\n",
       "suzuki forenza reno        5\n",
       "ford c max                 5\n",
       "audi a4 allroad            5\n",
       "mazda b                    5\n",
       "Name: cleaned_name, dtype: int64"
      ]
     },
     "execution_count": 86,
     "metadata": {},
     "output_type": "execute_result"
    }
   ],
   "source": [
    "null_cols = ['height_in', 'length_in', 'width_in', 'drivetrain', 'transmission', 'fuel', 'class', 'horsepower_hp',\n",
    "                'hybrid', 'torque']\n",
    "null_df = df5[df5[null_cols].isna().all(1)] #.groupby('cleaned_name')\n",
    "null_df['cleaned_name'].value_counts()[:15]\n",
    "# null_weight = df5[df5[null_cols].isnull()]\n",
    "# null_weight"
   ]
  },
  {
   "cell_type": "code",
   "execution_count": null,
   "id": "cooked-territory",
   "metadata": {},
   "outputs": [],
   "source": []
  },
  {
   "cell_type": "code",
   "execution_count": null,
   "id": "skilled-agenda",
   "metadata": {},
   "outputs": [],
   "source": []
  }
 ],
 "metadata": {
  "kernelspec": {
   "display_name": "Python 3",
   "language": "python",
   "name": "python3"
  },
  "language_info": {
   "codemirror_mode": {
    "name": "ipython",
    "version": 3
   },
   "file_extension": ".py",
   "mimetype": "text/x-python",
   "name": "python",
   "nbconvert_exporter": "python",
   "pygments_lexer": "ipython3",
   "version": "3.8.5"
  }
 },
 "nbformat": 4,
 "nbformat_minor": 5
}
